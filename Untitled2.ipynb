{
  "nbformat": 4,
  "nbformat_minor": 0,
  "metadata": {
    "colab": {
      "provenance": [],
      "toc_visible": true,
      "mount_file_id": "1E-kNGlfchavivu5pd0RjvShqjXBTnWlB",
      "authorship_tag": "ABX9TyPXDZEhEeoKfP1QLZwIqA3R",
      "include_colab_link": true
    },
    "kernelspec": {
      "name": "python3",
      "display_name": "Python 3"
    },
    "language_info": {
      "name": "python"
    }
  },
  "cells": [
    {
      "cell_type": "markdown",
      "metadata": {
        "id": "view-in-github",
        "colab_type": "text"
      },
      "source": [
        "<a href=\"https://colab.research.google.com/github/jchurtadolopez/Dataset1/blob/main/Untitled2.ipynb\" target=\"_parent\"><img src=\"https://colab.research.google.com/assets/colab-badge.svg\" alt=\"Open In Colab\"/></a>"
      ]
    },
    {
      "cell_type": "code",
      "execution_count": null,
      "metadata": {
        "id": "yqeVTpYPw69G"
      },
      "outputs": [],
      "source": [
        "import pandas as pd\n",
        "dtf_julio = pd.read_excel (\"/content/drive/MyDrive/Proyecto_UCN/Julio.xlsx\")\n",
        "print (dtf_julio)"
      ]
    },
    {
      "cell_type": "code",
      "source": [
        "import pandas as pd\n",
        "#dtf_agosto = pd.read_excel (\"https://github.com/jchurtadolopez/Dataset1/blob/main/Agosto.xlsx\")\n",
        "#dtf_agosto.to_excel (\"/content/drive/MyDrive/Proyecto_UCN\")\n",
        "url = \"https://raw.githubusercontent.com/jchurtadolopez/Dataset1/main/Agosto.xlsx\"\n",
        "dtf_agosto = pd.read_excel(url)\n",
        "#print (dtf_agosto)\n",
        "dtf_agosto.to_excel (\"/content/drive/MyDrive/Proyecto_UCN/Agosto.xlsx\")"
      ],
      "metadata": {
        "id": "NOQd0eFdxqWr"
      },
      "execution_count": 16,
      "outputs": []
    }
  ]
}