{
  "nbformat": 4,
  "nbformat_minor": 0,
  "metadata": {
    "colab": {
      "provenance": [],
      "toc_visible": true,
      "mount_file_id": "1E-kNGlfchavivu5pd0RjvShqjXBTnWlB",
      "authorship_tag": "ABX9TyMdDILTMuxZShE/4bYHE4MS",
      "include_colab_link": true
    },
    "kernelspec": {
      "name": "python3",
      "display_name": "Python 3"
    },
    "language_info": {
      "name": "python"
    }
  },
  "cells": [
    {
      "cell_type": "markdown",
      "metadata": {
        "id": "view-in-github",
        "colab_type": "text"
      },
      "source": [
        "<a href=\"https://colab.research.google.com/github/jchurtadolopez/Dataset1/blob/main/Copia_de_ProyectoUCN.ipynb\" target=\"_parent\"><img src=\"https://colab.research.google.com/assets/colab-badge.svg\" alt=\"Open In Colab\"/></a>"
      ]
    },
    {
      "cell_type": "code",
      "source": [
        "import pandas as pd\n",
        "dtf_junio = pd.read_excel (\"/content/drive/MyDrive/Proyecto_UCN/Junio.xlsx\")\n",
        "dtf_julio = pd.read_excel (\"/content/drive/MyDrive/Proyecto_UCN/Julio.xlsx\")\n",
        "dtf_agosto = pd.read_excel (\"/content/drive/MyDrive/Proyecto_UCN/Agosto.xlsx\")\n",
        "dtf_consolidado = pd.concat([dtf_junio, dtf_julio, dtf_agosto],axis=0)\n",
        "dtf_consolidado.to_excel(\"/content/drive/MyDrive/Proyecto_UCN/dtf_consolidado.xlsx\")"
      ],
      "metadata": {
        "id": "t3gQXCQoPl-L"
      },
      "execution_count": null,
      "outputs": []
    },
    {
      "cell_type": "code",
      "source": [
        "import pandas as pd\n",
        "dtf_junio = pd.read_excel (\"/content/drive/MyDrive/Proyecto_UCN/Junio.xlsx\")\n",
        "dtf_julio = pd.read_excel (\"/content/drive/MyDrive/Proyecto_UCN/Julio.xlsx\")\n",
        "dtf_agosto = pd.read_excel (\"/content/drive/MyDrive/Proyecto_UCN/Agosto.xlsx\")\n",
        "dtf_consolidado1 = pd.merge(dtf_junio, dtf_julio, on=\"DireccionIP\").merge(dtf_agosto, on=\"DireccionIP\")\n",
        "dtf_consolidado1.to_excel(\"/content/drive/MyDrive/Proyecto_UCN/dtf_consolidado1.xlsx\")"
      ],
      "metadata": {
        "id": "E-wohgn0Qnt9"
      },
      "execution_count": null,
      "outputs": []
    }
  ]
}